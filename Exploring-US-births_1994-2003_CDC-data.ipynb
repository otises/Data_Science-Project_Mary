{
 "cells": [
  {
   "cell_type": "code",
   "execution_count": 1,
   "metadata": {
    "collapsed": true
   },
   "outputs": [],
   "source": [
    "#Read the CSV file into a string\n",
    "f = open(\"US_births_1994-2003_CDC_NCHS.csv\", 'r')"
   ]
  },
  {
   "cell_type": "code",
   "execution_count": 2,
   "metadata": {
    "collapsed": true
   },
   "outputs": [],
   "source": [
    "data = f.read()"
   ]
  },
  {
   "cell_type": "code",
   "execution_count": 3,
   "metadata": {
    "collapsed": true
   },
   "outputs": [],
   "source": [
    "#Split the data on the new line character ()'\\n')\n",
    "split_data = data.split(\"\\n\")"
   ]
  },
  {
   "cell_type": "code",
   "execution_count": 4,
   "metadata": {
    "collapsed": false
   },
   "outputs": [
    {
     "data": {
      "text/plain": [
       "['year,month,date_of_month,day_of_week,births',\n",
       " '1994,1,1,6,8096',\n",
       " '1994,1,2,7,7772',\n",
       " '1994,1,3,1,10142',\n",
       " '1994,1,4,2,11248',\n",
       " '1994,1,5,3,11053',\n",
       " '1994,1,6,4,11406',\n",
       " '1994,1,7,5,11251',\n",
       " '1994,1,8,6,8653',\n",
       " '1994,1,9,7,7910',\n",
       " '1994,1,10,1,10498']"
      ]
     },
     "execution_count": 4,
     "metadata": {},
     "output_type": "execute_result"
    }
   ],
   "source": [
    "#Check the data\n",
    "split_data[0:11]"
   ]
  },
  {
   "cell_type": "code",
   "execution_count": 20,
   "metadata": {
    "collapsed": true
   },
   "outputs": [],
   "source": [
    "#Create a function that will allow us to create a list of lists with no headers\n",
    "\"\"\"def read_csv(string_value): \n",
    "    f = open(string_value, 'r').read() \n",
    "    split_list = f.split(\"\\n\") \n",
    "    string_list = split_list[1:len(split_list)] \n",
    "    final_list = [] \n",
    "    for row in string_list: \n",
    "        int_fields = [] \n",
    "        string_fields = row.split(\",\") \n",
    "        for value in string_fields:\n",
    "            field = int(value)\n",
    "            int_fields.append(field) \n",
    "            final_list.append(int_fields) \n",
    "    return final_list\"\"\"\n",
    "def read_csv(birth_data_file):\n",
    "    \"\"\"Takes a string representing the file name of the CSV file.\n",
    "       Reads the file into a string, splits the string on the newline character (\"\\n\"), \n",
    "       and removes the header row. Assign this list to string_list and create an empty list named\n",
    "       final_list\"\"\"\n",
    "    raw_data = open(birth_data_file, \"r\").read()\n",
    "    raw_data = raw_data.split(\"\\n\")\n",
    "    string_list = raw_data[1:]\n",
    "    final_list = []\n",
    "    for data in string_list:\n",
    "        int_fields = []\n",
    "        string_fields = data.split(\",\")\n",
    "        for string_field in string_fields:\n",
    "            field = int(string_field)\n",
    "            int_fields.append(field)\n",
    "        final_list.append(int_fields)\n",
    "    return(final_list)"
   ]
  },
  {
   "cell_type": "code",
   "execution_count": 21,
   "metadata": {
    "collapsed": false
   },
   "outputs": [],
   "source": [
    "#Use the 'read_csv' function to read the file\n",
    "cdc_list = read_csv(\"US_births_1994-2003_CDC_NCHS.csv\")"
   ]
  },
  {
   "cell_type": "code",
   "execution_count": 22,
   "metadata": {
    "collapsed": false
   },
   "outputs": [
    {
     "data": {
      "text/plain": [
       "[[1994, 1, 1, 6, 8096],\n",
       " [1994, 1, 2, 7, 7772],\n",
       " [1994, 1, 3, 1, 10142],\n",
       " [1994, 1, 4, 2, 11248],\n",
       " [1994, 1, 5, 3, 11053],\n",
       " [1994, 1, 6, 4, 11406],\n",
       " [1994, 1, 7, 5, 11251],\n",
       " [1994, 1, 8, 6, 8653],\n",
       " [1994, 1, 9, 7, 7910],\n",
       " [1994, 1, 10, 1, 10498]]"
      ]
     },
     "execution_count": 22,
     "metadata": {},
     "output_type": "execute_result"
    }
   ],
   "source": [
    "#Check the first 10 rows of the data\n",
    "cdc_list[:10]"
   ]
  },
  {
   "cell_type": "code",
   "execution_count": 23,
   "metadata": {
    "collapsed": false
   },
   "outputs": [
    {
     "name": "stdout",
     "output_type": "stream",
     "text": [
      "{1: 3232517, 2: 3018140, 3: 3322069, 4: 3185314, 5: 3350907, 6: 3296530, 7: 3498783, 8: 3525858, 9: 3439698, 10: 3378814, 11: 3171647, 12: 3301860}\n"
     ]
    }
   ],
   "source": [
    "#Create a function to calculate the total number of births each unique month\n",
    "def month_births(in_lists): \n",
    "    births_per_month = {} \n",
    "    for in_list in in_lists: \n",
    "        key = in_list[1] \n",
    "        value = in_list[-1] \n",
    "        if key in births_per_month.keys(): \n",
    "            births_per_month[key] = value + births_per_month[key] \n",
    "        else: births_per_month[key] = value \n",
    "    return births_per_month\n",
    "\n",
    "cdc_month_births = month_births(cdc_list) \n",
    "print(cdc_month_births)"
   ]
  },
  {
   "cell_type": "code",
   "execution_count": 24,
   "metadata": {
    "collapsed": false
   },
   "outputs": [
    {
     "name": "stdout",
     "output_type": "stream",
     "text": [
      "{1: 5789166, 2: 6446196, 3: 6322855, 4: 6288429, 5: 6233657, 6: 4562111, 7: 4079723}\n"
     ]
    }
   ],
   "source": [
    "#Create a function to calculate the total number of births each unique day of the week\n",
    "def dow_births(in_lsts):\n",
    "    births_per_day = {}\n",
    "    for in_lst in in_lsts:\n",
    "        key = in_lst[3]\n",
    "        value = in_lst[-1]\n",
    "        if key in births_per_day.keys():\n",
    "            births_per_day[key] = value + births_per_day[key]\n",
    "        else: births_per_day[key] = value\n",
    "    return births_per_day\n",
    "\n",
    "cdc_day_births = dow_births(cdc_list)\n",
    "print(cdc_day_births)"
   ]
  },
  {
   "cell_type": "code",
   "execution_count": 25,
   "metadata": {
    "collapsed": true
   },
   "outputs": [],
   "source": [
    "#This is a function that works for any column of the dataset.\n",
    "def calc_counts(data, column):\n",
    "    birth_counts = {}\n",
    "    for lst in data:\n",
    "        key = lst[column]\n",
    "        value = lst[-1]\n",
    "        if key in birth_counts.keys():\n",
    "            birth_counts[key] += value\n",
    "        else:\n",
    "            birth_counts[key] = value\n",
    "    return birth_counts"
   ]
  },
  {
   "cell_type": "code",
   "execution_count": 27,
   "metadata": {
    "collapsed": false
   },
   "outputs": [
    {
     "name": "stdout",
     "output_type": "stream",
     "text": [
      "{2000: 4058814, 2001: 4025933, 2002: 4021726, 2003: 4089950, 1994: 3952767, 1995: 3899589, 1996: 3891494, 1997: 3880894, 1998: 3941553, 1999: 3959417}\n"
     ]
    }
   ],
   "source": [
    "cdc_year_births = calc_counts(cdc_list, 0)\n",
    "print(cdc_year_births)"
   ]
  },
  {
   "cell_type": "code",
   "execution_count": 28,
   "metadata": {
    "collapsed": false
   },
   "outputs": [
    {
     "name": "stdout",
     "output_type": "stream",
     "text": [
      "{1: 3232517, 2: 3018140, 3: 3322069, 4: 3185314, 5: 3350907, 6: 3296530, 7: 3498783, 8: 3525858, 9: 3439698, 10: 3378814, 11: 3171647, 12: 3301860}\n"
     ]
    }
   ],
   "source": [
    "cdc_months_births = calc_counts(cdc_list, 1)\n",
    "print(cdc_months_births)"
   ]
  },
  {
   "cell_type": "code",
   "execution_count": 29,
   "metadata": {
    "collapsed": false
   },
   "outputs": [
    {
     "name": "stdout",
     "output_type": "stream",
     "text": [
      "{1: 1276557, 2: 1288739, 3: 1304499, 4: 1288154, 5: 1299953, 6: 1304474, 7: 1310459, 8: 1312297, 9: 1303292, 10: 1320764, 11: 1314361, 12: 1318437, 13: 1277684, 14: 1320153, 15: 1319171, 16: 1315192, 17: 1324953, 18: 1326855, 19: 1318727, 20: 1324821, 21: 1322897, 22: 1317381, 23: 1293290, 24: 1288083, 25: 1272116, 26: 1284796, 27: 1294395, 28: 1307685, 29: 1223161, 30: 1202095, 31: 746696}\n"
     ]
    }
   ],
   "source": [
    "cdc_dom_births = calc_counts(cdc_list, 2)\n",
    "print(cdc_dom_births)"
   ]
  },
  {
   "cell_type": "code",
   "execution_count": 30,
   "metadata": {
    "collapsed": false
   },
   "outputs": [
    {
     "name": "stdout",
     "output_type": "stream",
     "text": [
      "{1: 5789166, 2: 6446196, 3: 6322855, 4: 6288429, 5: 6233657, 6: 4562111, 7: 4079723}\n"
     ]
    }
   ],
   "source": [
    "cdc_dow_births = calc_counts(cdc_list, 3)\n",
    "print(cdc_dow_births)"
   ]
  },
  {
   "cell_type": "code",
   "execution_count": 31,
   "metadata": {
    "collapsed": true
   },
   "outputs": [],
   "source": [
    "#This is a function to calculate the min and max values for any dictionary that's passed in\n",
    "def check_min_max(birth_details):\n",
    "    min_value = 0\n",
    "    max_value = 0\n",
    "    min_value = min(birth_details.values())\n",
    "    max_value = max(birth_details.values())\n",
    "    return(\"Minimum: {} and Maximum: {}\".format(min_value, max_value))"
   ]
  },
  {
   "cell_type": "code",
   "execution_count": 32,
   "metadata": {
    "collapsed": false
   },
   "outputs": [
    {
     "data": {
      "text/plain": [
       "'Minimum: 746696 and Maximum: 1326855'"
      ]
     },
     "execution_count": 32,
     "metadata": {},
     "output_type": "execute_result"
    }
   ],
   "source": [
    "check_min_max(cdc_dom_births)"
   ]
  },
  {
   "cell_type": "code",
   "execution_count": 33,
   "metadata": {
    "collapsed": false
   },
   "outputs": [
    {
     "data": {
      "text/plain": [
       "'Minimum: 4079723 and Maximum: 6446196'"
      ]
     },
     "execution_count": 33,
     "metadata": {},
     "output_type": "execute_result"
    }
   ],
   "source": [
    "check_min_max(cdc_dow_births)"
   ]
  }
 ],
 "metadata": {
  "anaconda-cloud": {},
  "kernelspec": {
   "display_name": "Python 3",
   "language": "python",
   "name": "python3"
  },
  "language_info": {
   "codemirror_mode": {
    "name": "ipython",
    "version": 3
   },
   "file_extension": ".py",
   "mimetype": "text/x-python",
   "name": "python",
   "nbconvert_exporter": "python",
   "pygments_lexer": "ipython3",
   "version": "3.4.3"
  }
 },
 "nbformat": 4,
 "nbformat_minor": 1
}
